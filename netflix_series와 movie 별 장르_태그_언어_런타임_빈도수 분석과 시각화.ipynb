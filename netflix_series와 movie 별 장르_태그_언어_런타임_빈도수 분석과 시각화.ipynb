{
  "nbformat": 4,
  "nbformat_minor": 0,
  "metadata": {
    "colab": {
      "name": "tv시리즈_언어트리모형.ipynb",
      "private_outputs": true,
      "provenance": [],
      "collapsed_sections": [
        "fv_uVsl9B-Vr",
        "yRujZmb_CFj-",
        "LLxp_V9-ct-8",
        "FLGxqmswiWEx"
      ]
    },
    "kernelspec": {
      "name": "python3",
      "display_name": "Python 3"
    },
    "language_info": {
      "name": "python"
    },
    "accelerator": "GPU"
  },
  "cells": [
    {
      "cell_type": "code",
      "metadata": {
        "id": "uScLeWOfRr7O"
      },
      "source": [
        "! pip install squarify"
      ],
      "execution_count": null,
      "outputs": []
    },
    {
      "cell_type": "code",
      "metadata": {
        "id": "moVZ_7G6BJAu"
      },
      "source": [
        "# 데이터 읽기\n",
        "import pandas as pd\n",
        "import numpy as np\n",
        "\n",
        "# 데이터 시각화\n",
        "import plotly.graph_objects as go  # 바차트 시각화\n",
        "# import plotly.express as px  # 트리맵 시각화 오류남\n",
        "import squarify\n",
        "\n",
        "# 자연어 처리\n",
        "import spacy\n",
        "from wordcloud import WordCloud\n",
        "import matplotlib.pyplot as plt"
      ],
      "execution_count": null,
      "outputs": []
    },
    {
      "cell_type": "code",
      "metadata": {
        "id": "o9Nz-1JTBj1D"
      },
      "source": [
        "data = pd.read_csv('netflix-rotten-tomatoes-metacritic-imdb.csv')"
      ],
      "execution_count": null,
      "outputs": []
    },
    {
      "cell_type": "code",
      "metadata": {
        "id": "i6LtnHFFBrfl"
      },
      "source": [
        "df = data.copy()"
      ],
      "execution_count": null,
      "outputs": []
    },
    {
      "cell_type": "markdown",
      "metadata": {
        "id": "fv_uVsl9B-Vr"
      },
      "source": [
        "## 기본 데이터 정보확인"
      ]
    },
    {
      "cell_type": "markdown",
      "metadata": {
        "id": "2RVsdLISDLcz"
      },
      "source": [
        "- title : 제목\n",
        "- genre : 장르\n",
        "- tags : 태그\n",
        "- languages : 언어\n",
        "- series or movie : 시리즈 or 영화\n",
        "- hidden gem score : 영화가 숨겨진 보석인지 확인하는 점수\n",
        "- country availability : 영화 가용성, 사용가능한 국가\n",
        "- runtime : 영화 런타임\n",
        "- director : 감독\n",
        "- writer : 작가\n",
        "- actors : 배우들\n",
        "- view rating : 시청등급\n",
        "- imdb score : imdb 점수\n",
        "- rotten tomatoes score : 로튼토마토 점수\n",
        "- metacritic score : Metacritic 점수\n",
        "- awards received : 받은 평점\n",
        "- awards nominated for : 아카데미에서 받은 점수\n",
        "- boxoffice : 총 매출\n",
        "- release date : 개봉일\n",
        "- netflix release date : 넷플릭스 출시일\n",
        "- production house : 제작사\n",
        "- netflix link : 넷플릭스 링크\n",
        "- imdb link : imdb 링크\n",
        "- imdb votes : imdb 투표수\n",
        "- image : 이미지링크\n",
        "- poster : 포스터 링크\n",
        "- tmdb trailer : tmdb 트레일러 링크\n",
        "- trailer site : 공식 트레일러 링크"
      ]
    },
    {
      "cell_type": "code",
      "metadata": {
        "id": "imTIj33PBt07"
      },
      "source": [
        "df.head(1)"
      ],
      "execution_count": null,
      "outputs": []
    },
    {
      "cell_type": "code",
      "metadata": {
        "id": "kO9lOGIoBu7N"
      },
      "source": [
        "df.info()"
      ],
      "execution_count": null,
      "outputs": []
    },
    {
      "cell_type": "code",
      "metadata": {
        "id": "pG2FTdg7Bxhf"
      },
      "source": [
        "# null값 확인\n",
        "df.isnull().sum()"
      ],
      "execution_count": null,
      "outputs": []
    },
    {
      "cell_type": "code",
      "metadata": {
        "id": "JUWZnZdBDIsE"
      },
      "source": [
        ""
      ],
      "execution_count": null,
      "outputs": []
    },
    {
      "cell_type": "markdown",
      "metadata": {
        "id": "yRujZmb_CFj-"
      },
      "source": [
        "## 데이터 전처리"
      ]
    },
    {
      "cell_type": "markdown",
      "metadata": {
        "id": "_dA8GPw8GQXv"
      },
      "source": [
        "**분석시 불필요한 열 삭제**\n",
        "- 트레일러 영상이나 이미지, 포스터, 링크 등은 데이터를 분석하는 데 불필요할 것 같아서 삭제했다.\n",
        "- 날짜와 장르 등을 중점으로 분석하기 위해서 제작사와 매출액들은 제외했다.\n",
        "- 점수를 통일하기 위해서 metacritic Score를 삭제했다. "
      ]
    },
    {
      "cell_type": "code",
      "metadata": {
        "id": "ZfHmVoEuCFY0"
      },
      "source": [
        "df = df.drop(columns = [ 'Metacritic Score', 'Boxoffice',\n",
        "                        'Production House', 'Netflix Link', 'IMDb Link',\n",
        "                        'Poster', 'TMDb Trailer', 'Trailer Site'], axis = 1)"
      ],
      "execution_count": null,
      "outputs": []
    },
    {
      "cell_type": "code",
      "metadata": {
        "id": "JiTQgGFcB7N7"
      },
      "source": [
        "df.head(1)"
      ],
      "execution_count": null,
      "outputs": []
    },
    {
      "cell_type": "markdown",
      "metadata": {
        "id": "sGPPw84wJovs"
      },
      "source": [
        "**날짜 데이터 인코딩**"
      ]
    },
    {
      "cell_type": "code",
      "metadata": {
        "id": "KTEyxG7LHUNP"
      },
      "source": [
        "df['Relese Date'] = pd.to_datetime(df['Release Date'])\n",
        "df['Netflix Release Date'] = pd.to_datetime(df['Netflix Release Date'])"
      ],
      "execution_count": null,
      "outputs": []
    },
    {
      "cell_type": "code",
      "metadata": {
        "id": "_u5oTPDDKDXI"
      },
      "source": [
        "df[['Relese Date', 'Netflix Release Date']].head(1)"
      ],
      "execution_count": null,
      "outputs": []
    },
    {
      "cell_type": "markdown",
      "metadata": {
        "id": "LLxp_V9-ct-8"
      },
      "source": [
        "## 데이터 값 빈도 확인"
      ]
    },
    {
      "cell_type": "code",
      "metadata": {
        "id": "xC3SzIEjKK8q"
      },
      "source": [
        "colors = ['black',] * 2\n",
        "colors[0] = 'crimson'"
      ],
      "execution_count": null,
      "outputs": []
    },
    {
      "cell_type": "code",
      "metadata": {
        "id": "-ROROD0-dBqQ"
      },
      "source": [
        "count = df['Series or Movie'].value_counts()"
      ],
      "execution_count": null,
      "outputs": []
    },
    {
      "cell_type": "code",
      "metadata": {
        "id": "YlYPe6YkdGvu"
      },
      "source": [
        "count"
      ],
      "execution_count": null,
      "outputs": []
    },
    {
      "cell_type": "code",
      "metadata": {
        "id": "D_TscbNDdHiM"
      },
      "source": [
        "# 데이터 시각화 plot.graph_objects 사용\n",
        "fig = go.Figure(data=[go.Bar(\n",
        "    x = df[\"Series or Movie\"],\n",
        "    y = count,\n",
        "    text = count,\n",
        "    textposition='auto',\n",
        "    marker_color=colors \n",
        ")])\n"
      ],
      "execution_count": null,
      "outputs": []
    },
    {
      "cell_type": "code",
      "metadata": {
        "id": "5w_yN1POeWyq"
      },
      "source": [
        "# 바차트 제목 및 y축 라벨, x축 라벨 그리기\n",
        "fig.update_traces(texttemplate='%{text:.2s}', textposition='outside')\n",
        "fig.update_layout(title_text= 'More Movie or Tv Series?',\n",
        "                  yaxis=dict(\n",
        "                  title='Quantity',\n",
        "                  titlefont_size= 14),\n",
        "                  xaxis=dict(\n",
        "                  title='Category',\n",
        "                  titlefont_size= 14)\n",
        "                  )"
      ],
      "execution_count": null,
      "outputs": []
    },
    {
      "cell_type": "markdown",
      "metadata": {
        "id": "Pn7X7Na-iAAs"
      },
      "source": [
        "### movie인 데이터와 series 데이터 분리"
      ]
    },
    {
      "cell_type": "code",
      "metadata": {
        "id": "nN37QxhsgMWY"
      },
      "source": [
        "df_movie = df[df['Series or Movie']=='Movie']\n",
        "df_movie.head(1)"
      ],
      "execution_count": null,
      "outputs": []
    },
    {
      "cell_type": "code",
      "metadata": {
        "id": "MW4IqBQpiRti"
      },
      "source": [
        "df_series = df[df[\"Series or Movie\"] == \"Series\"]\n",
        "df_series.head(1)"
      ],
      "execution_count": null,
      "outputs": []
    },
    {
      "cell_type": "markdown",
      "metadata": {
        "id": "FLGxqmswiWEx"
      },
      "source": [
        "## series 장르 분석 및 시각화"
      ]
    },
    {
      "cell_type": "code",
      "metadata": {
        "id": "h8Mjb0iMidt5"
      },
      "source": [
        "df_series_gen = df_series.dropna(subset=['Genre'])  # 장르에서 null값 삭제"
      ],
      "execution_count": null,
      "outputs": []
    },
    {
      "cell_type": "code",
      "metadata": {
        "id": "zhWcK14bik-m"
      },
      "source": [
        "colors_10 = ['DarkRed', 'FireBrick','Red', 'Crimson',\n",
        "             'IndianRed', 'slategray', 'gray', 'dimgrey',\n",
        "             'DarkSlateGrey', 'black']"
      ],
      "execution_count": null,
      "outputs": []
    },
    {
      "cell_type": "code",
      "metadata": {
        "id": "xoeNapgCiqCT"
      },
      "source": [
        "series_gen_list = df_series_gen.Genre.str.split(',')  # 여러 개 장르가 있는 각 데이터를 리스트로 변환"
      ],
      "execution_count": null,
      "outputs": []
    },
    {
      "cell_type": "code",
      "metadata": {
        "id": "BgbC588ki0_d"
      },
      "source": [
        "series_gen_list"
      ],
      "execution_count": null,
      "outputs": []
    },
    {
      "cell_type": "code",
      "metadata": {
        "id": "AMggczqni24p"
      },
      "source": [
        "s_gen_list = {}  # 장르 데이터 정리 { 장르명 : 개수}"
      ],
      "execution_count": null,
      "outputs": []
    },
    {
      "cell_type": "code",
      "metadata": {
        "id": "yD3Q4Vi5jCC_"
      },
      "source": [
        "for i in series_gen_list:  # 분할된 장르 리스트을 하나씩 불러옴\n",
        "    for j in i:  # 분할된 장르 리스트에서 값들을 하나씩 불러옴\n",
        "        if j in s_gen_list:  # 해당 장르가 리스트에 있다면\n",
        "            s_gen_list[j] += 1  # 장르 count + 1\n",
        "        else:\n",
        "            s_gen_list[j] = 1  # 없으면 해당 장르 생성 후 count +1"
      ],
      "execution_count": null,
      "outputs": []
    },
    {
      "cell_type": "code",
      "metadata": {
        "id": "u7Ehn-jsj2Tz"
      },
      "source": [
        "# 정리된 장르들을 데이터프레임으로 만듬\n",
        "s_gen_df = pd.DataFrame(s_gen_list.values(), index= s_gen_list.keys(), columns = {'Counts of Genres in Tv Series'})"
      ],
      "execution_count": null,
      "outputs": []
    },
    {
      "cell_type": "code",
      "metadata": {
        "id": "JFqmxSxwkA2R"
      },
      "source": [
        "s_gen_df.head(1)"
      ],
      "execution_count": null,
      "outputs": []
    },
    {
      "cell_type": "code",
      "metadata": {
        "id": "POamU2l2kGzJ"
      },
      "source": [
        "# 카운트를 기준으로 데이터를 내림차순 정렬\n",
        "s_gen_df.sort_values(by = 'Counts of Genres in Tv Series',ascending = False,inplace = True)"
      ],
      "execution_count": null,
      "outputs": []
    },
    {
      "cell_type": "code",
      "metadata": {
        "id": "5_AyboPRkiG3"
      },
      "source": [
        "s_gen_df.head(1)"
      ],
      "execution_count": null,
      "outputs": []
    },
    {
      "cell_type": "code",
      "metadata": {
        "id": "kpiSn-EYklcW"
      },
      "source": [
        "# 상위 10개 장르 추출\n",
        "top_10_s_gen = s_gen_df[0:10] "
      ],
      "execution_count": null,
      "outputs": []
    },
    {
      "cell_type": "code",
      "metadata": {
        "id": "bKo4-xXvkocS"
      },
      "source": [
        "# 그래프에 상위 10개 장르의 개수들을 넣고 시각화\n",
        "fig = go.Figure(data=[go.Bar(\n",
        "    x = top_10_s_gen.index,\n",
        "    y = top_10_s_gen['Counts of Genres in Tv Series'],\n",
        "    text = top_10_s_gen['Counts of Genres in Tv Series'],\n",
        "    textposition='auto',\n",
        "    marker_color=colors_10\n",
        ")])"
      ],
      "execution_count": null,
      "outputs": []
    },
    {
      "cell_type": "code",
      "metadata": {
        "id": "E8S3-ZDuk3qy"
      },
      "source": [
        "fig.update_traces(texttemplate='%{text:.2s}', textposition='outside')\n",
        "fig.update_layout(title_text= 'Which are the most popular genres in Tv Series?',\n",
        "                  yaxis=dict(\n",
        "                  title='Quantity',\n",
        "                  titlefont_size=14),\n",
        "                  xaxis=dict(\n",
        "                  title='Genres',\n",
        "                  titlefont_size=14))"
      ],
      "execution_count": null,
      "outputs": []
    },
    {
      "cell_type": "markdown",
      "metadata": {
        "id": "i2p-ZWIYiF8Q"
      },
      "source": [
        "## series 태그 분석 및 시각화"
      ]
    },
    {
      "cell_type": "code",
      "metadata": {
        "id": "KKJQfYHRiEjd"
      },
      "source": [
        "df_series_tags = df_series.dropna(subset=['Tags'])  # 널값 삭제"
      ],
      "execution_count": null,
      "outputs": []
    },
    {
      "cell_type": "code",
      "metadata": {
        "id": "J-GApln9i7Os"
      },
      "source": [
        "nlp = spacy.load('en')  # 영어에 관한 자연어 처리 사전 로드"
      ],
      "execution_count": null,
      "outputs": []
    },
    {
      "cell_type": "code",
      "metadata": {
        "id": "UQvKF2NPjEdh"
      },
      "source": [
        "series_tags = df_series_tags['Tags']  # tag값만 가져옴"
      ],
      "execution_count": null,
      "outputs": []
    },
    {
      "cell_type": "code",
      "metadata": {
        "id": "LPQsFSEFkURm"
      },
      "source": [
        "series_tags"
      ],
      "execution_count": null,
      "outputs": []
    },
    {
      "cell_type": "code",
      "metadata": {
        "id": "5V6RkrR1opL6"
      },
      "source": [
        "doc = []"
      ],
      "execution_count": null,
      "outputs": []
    },
    {
      "cell_type": "code",
      "metadata": {
        "id": "CM06n3LAjW4_"
      },
      "source": [
        "for tag in series_tags:  # 문자열 하나로 되어있던것을 토큰 분리\n",
        "    doc.append(nlp(tag))"
      ],
      "execution_count": null,
      "outputs": []
    },
    {
      "cell_type": "code",
      "metadata": {
        "id": "8uMcftOzjcCg"
      },
      "source": [
        "doc = nlp(str(doc))"
      ],
      "execution_count": null,
      "outputs": []
    },
    {
      "cell_type": "code",
      "metadata": {
        "id": "ynKwUbzKjo3R"
      },
      "source": [
        "words = [token.text  # 리스트화\n",
        "         for token in doc # 토큰 분리한 데이터를 하나씩 가져옴\n",
        "         if not token.is_stop and not token.is_punct]  # 문자열이 끝나는점, 구두점 문자가 끝나는 점이 아닐시"
      ],
      "execution_count": null,
      "outputs": []
    },
    {
      "cell_type": "code",
      "metadata": {
        "id": "rmYFMB_okAwb"
      },
      "source": [
        "from collections import Counter  # 각 단어당 빈도수 확인\n",
        "words = Counter(words)"
      ],
      "execution_count": null,
      "outputs": []
    },
    {
      "cell_type": "code",
      "metadata": {
        "id": "cL4yzJR3qigu"
      },
      "source": [
        "words"
      ],
      "execution_count": null,
      "outputs": []
    },
    {
      "cell_type": "code",
      "metadata": {
        "id": "P9wkGt67mx-l"
      },
      "source": [
        "wordcloud = WordCloud(width = 1400, height = 1400, # 단어별 빈도수로 워드 클라우드 작성 \n",
        "                background_color ='lavenderblush',  \n",
        "                min_font_size = 5).generate_from_frequencies(words)  "
      ],
      "execution_count": null,
      "outputs": []
    },
    {
      "cell_type": "code",
      "metadata": {
        "id": "8eA9gdlunN2S"
      },
      "source": [
        "plt.figure(figsize = (8, 8), facecolor = None) \n",
        "plt.imshow(wordcloud) \n",
        "plt.axis(\"off\") \n",
        "plt.tight_layout(pad = 0) \n",
        "plt.show()"
      ],
      "execution_count": null,
      "outputs": []
    },
    {
      "cell_type": "code",
      "metadata": {
        "id": "IawYDisInRdU"
      },
      "source": [
        ""
      ],
      "execution_count": null,
      "outputs": []
    },
    {
      "cell_type": "markdown",
      "metadata": {
        "id": "CDhLXEPPrWQ9"
      },
      "source": [
        "## movie 장르 분석 및 시각화\n",
        "- 분석방법은 위 tv분석방법과 동일"
      ]
    },
    {
      "cell_type": "code",
      "metadata": {
        "id": "Wt1n7UOYrZ6Z"
      },
      "source": [
        "df_movie_gen = df_movie.dropna(subset=['Genre'])"
      ],
      "execution_count": null,
      "outputs": []
    },
    {
      "cell_type": "code",
      "metadata": {
        "id": "cL4vrJROr9Mt"
      },
      "source": [
        "movie_gen_list = df_movie_gen.Genre.str.split(',')"
      ],
      "execution_count": null,
      "outputs": []
    },
    {
      "cell_type": "code",
      "metadata": {
        "id": "BS7t1hsusDSf"
      },
      "source": [
        "movie_gen_list"
      ],
      "execution_count": null,
      "outputs": []
    },
    {
      "cell_type": "code",
      "metadata": {
        "id": "2TWs8gV2sRX2"
      },
      "source": [
        "m_gen_list = {}  # 장르 데이터 정리 { 장르명 : 개수}"
      ],
      "execution_count": null,
      "outputs": []
    },
    {
      "cell_type": "code",
      "metadata": {
        "id": "hN5-zbMsseis"
      },
      "source": [
        "for i in movie_gen_list:  # 분할된 장르 리스트을 하나씩 불러옴\n",
        "    for j in i:  # 분할된 장르 리스트에서 값들을 하나씩 불러옴\n",
        "        if j in m_gen_list:  # 해당 장르가 리스트에 있다면\n",
        "            m_gen_list[j] += 1  # 장르 count + 1\n",
        "        else:\n",
        "            m_gen_list[j] = 1  # 없으면 해당 장르 생성 후 count +1"
      ],
      "execution_count": null,
      "outputs": []
    },
    {
      "cell_type": "code",
      "metadata": {
        "id": "9-KMSkRcsqHp"
      },
      "source": [
        "m_gen_list"
      ],
      "execution_count": null,
      "outputs": []
    },
    {
      "cell_type": "code",
      "metadata": {
        "id": "et6a-Pjvsr40"
      },
      "source": [
        "m_gen_df = pd.DataFrame(m_gen_list.values(), index= m_gen_list.keys(), columns = {'Counts of Genres in Movie'})"
      ],
      "execution_count": null,
      "outputs": []
    },
    {
      "cell_type": "code",
      "metadata": {
        "id": "yvgr3p8VtdTi"
      },
      "source": [
        "m_gen_df.sort_values(by = 'Counts of Genres in Movie',ascending = False,inplace = True)"
      ],
      "execution_count": null,
      "outputs": []
    },
    {
      "cell_type": "code",
      "metadata": {
        "id": "6z2xfH80s3v6"
      },
      "source": [
        "top_10_m_gen = m_gen_df[0:10] "
      ],
      "execution_count": null,
      "outputs": []
    },
    {
      "cell_type": "code",
      "metadata": {
        "id": "A8LSkK-fs_Em"
      },
      "source": [
        "fig = go.Figure(data=[go.Bar(\n",
        "    x = top_10_m_gen.index,\n",
        "    y = top_10_m_gen['Counts of Genres in Movie'],\n",
        "    text = top_10_m_gen['Counts of Genres in Movie'],\n",
        "    textposition='auto',\n",
        "    marker_color=colors_10\n",
        ")])"
      ],
      "execution_count": null,
      "outputs": []
    },
    {
      "cell_type": "code",
      "metadata": {
        "id": "VIW4KPpRtNgt"
      },
      "source": [
        "fig.update_traces(texttemplate='%{text:.2s}', textposition='outside')\n",
        "fig.update_layout(title_text= 'Which are the most popular genres in Movie?',\n",
        "                  yaxis=dict(\n",
        "                  title='Quantity',\n",
        "                  titlefont_size=14),\n",
        "                  xaxis=dict(\n",
        "                  title='Genres',\n",
        "                  titlefont_size=14))"
      ],
      "execution_count": null,
      "outputs": []
    },
    {
      "cell_type": "code",
      "metadata": {
        "id": "e6DS7rautie4"
      },
      "source": [
        ""
      ],
      "execution_count": null,
      "outputs": []
    },
    {
      "cell_type": "markdown",
      "metadata": {
        "id": "PzcIbqJQt9Ia"
      },
      "source": [
        "## Movie 태그 분석 및 시각화\n",
        "- 분석 방법은 위 tv분석방법과 동일"
      ]
    },
    {
      "cell_type": "code",
      "metadata": {
        "id": "Uo-Abq8Wt__x"
      },
      "source": [
        "df_movie_tag = df_movie.dropna(subset=['Tags'])"
      ],
      "execution_count": null,
      "outputs": []
    },
    {
      "cell_type": "code",
      "metadata": {
        "id": "j9FuZihruMKv"
      },
      "source": [
        "movie_tags = df_movie_tag['Tags']"
      ],
      "execution_count": null,
      "outputs": []
    },
    {
      "cell_type": "code",
      "metadata": {
        "id": "RKgMJ64EukaX"
      },
      "source": [
        "doc2 = []\n",
        "for tag in movie_tags:  # 문자열 하나로 되어있던것을 토큰 분리\n",
        "    doc2.append(nlp(tag))"
      ],
      "execution_count": null,
      "outputs": []
    },
    {
      "cell_type": "code",
      "metadata": {
        "id": "bUqakabuvIDV"
      },
      "source": [
        "doc = nlp(str(doc))\n",
        "words = [token.text  # 리스트화\n",
        "         for token in doc \n",
        "         if not token.is_stop and not token.is_punct] "
      ],
      "execution_count": null,
      "outputs": []
    },
    {
      "cell_type": "code",
      "metadata": {
        "id": "3ss-RhIbvH0f"
      },
      "source": [
        "from collections import Counter  # 각 단어당 빈도수 확인\n",
        "words = Counter(words)"
      ],
      "execution_count": null,
      "outputs": []
    },
    {
      "cell_type": "code",
      "metadata": {
        "id": "gaRguywzvUZK"
      },
      "source": [
        "wordcloud = WordCloud(width = 1400, height = 1400, # 단어별 빈도수로 워드 클라우드 작성 \n",
        "                background_color ='lavenderblush',  \n",
        "                min_font_size = 5).generate_from_frequencies(words) \n",
        "plt.figure(figsize = (8, 8), facecolor = None) \n",
        "plt.imshow(wordcloud) \n",
        "plt.axis(\"off\") \n",
        "plt.tight_layout(pad = 0) \n",
        "plt.show() "
      ],
      "execution_count": null,
      "outputs": []
    },
    {
      "cell_type": "markdown",
      "metadata": {
        "id": "eHdrxj08vg7o"
      },
      "source": [
        "## series에서 languages의 빈도수 시각화"
      ]
    },
    {
      "cell_type": "code",
      "metadata": {
        "id": "Sn-LS9UqwCtA"
      },
      "source": [
        "df_series_lan = df_series.dropna(subset=['Languages'])  # languages의 null값 삭제"
      ],
      "execution_count": null,
      "outputs": []
    },
    {
      "cell_type": "code",
      "metadata": {
        "id": "CB8FuNJJwP4M"
      },
      "source": [
        "series_lan = df_series_lan['Languages']\n",
        "doc_len = []\n",
        "for i in series_lan:  # 문자열 하나로 되어있던것을 토큰 분리\n",
        "    doc_len.append(nlp(i))"
      ],
      "execution_count": null,
      "outputs": []
    },
    {
      "cell_type": "code",
      "metadata": {
        "id": "JWF-Qbo5x6q0"
      },
      "source": [
        "doc_len = nlp(str(doc_len))\n",
        "len = [i.text  # 리스트화\n",
        "         for i in doc_len \n",
        "         if not i.is_stop and not i.is_punct] "
      ],
      "execution_count": null,
      "outputs": []
    },
    {
      "cell_type": "code",
      "metadata": {
        "id": "pZK-B5XS0x7i"
      },
      "source": [
        "from collections import Counter  # 각 단어당 빈도수 확인\n",
        "len = Counter(len)"
      ],
      "execution_count": null,
      "outputs": []
    },
    {
      "cell_type": "code",
      "metadata": {
        "id": "Kisgdbii2MXa"
      },
      "source": [
        "lan = len.copy()"
      ],
      "execution_count": null,
      "outputs": []
    },
    {
      "cell_type": "code",
      "metadata": {
        "id": "H1fQdr0N1EuP"
      },
      "source": [
        "del(lan[' '])"
      ],
      "execution_count": null,
      "outputs": []
    },
    {
      "cell_type": "code",
      "metadata": {
        "id": "FLQXZ-904Rnh"
      },
      "source": [
        "lan = pd.DataFrame(dict(lan),index=[0])"
      ],
      "execution_count": null,
      "outputs": []
    },
    {
      "cell_type": "code",
      "metadata": {
        "id": "aSX40SYr4JlT"
      },
      "source": [
        "lan =lan.T"
      ],
      "execution_count": null,
      "outputs": []
    },
    {
      "cell_type": "code",
      "metadata": {
        "id": "WMgTx-ly5dl4"
      },
      "source": [
        "lan.columns = ['count']"
      ],
      "execution_count": null,
      "outputs": []
    },
    {
      "cell_type": "code",
      "metadata": {
        "id": "yAYnafKz5nZV"
      },
      "source": [
        "lan.sort_values(by = 'count',ascending = False,inplace = True)"
      ],
      "execution_count": null,
      "outputs": []
    },
    {
      "cell_type": "code",
      "metadata": {
        "id": "O-WFEh9CBXNQ"
      },
      "source": [
        "lan_df = lan[:10]"
      ],
      "execution_count": null,
      "outputs": []
    },
    {
      "cell_type": "code",
      "metadata": {
        "id": "5uYq_3WFBcc0"
      },
      "source": [
        "lan_df"
      ],
      "execution_count": null,
      "outputs": []
    },
    {
      "cell_type": "code",
      "metadata": {
        "id": "KFZ8eDgDV1Hl"
      },
      "source": [
        "squarify.plot(sizes=lan_df['count'], label = lan_df.index, value = lan_df['count'], )"
      ],
      "execution_count": null,
      "outputs": []
    },
    {
      "cell_type": "code",
      "metadata": {
        "id": "U4Lo3J-6BhMM"
      },
      "source": [
        ""
      ],
      "execution_count": null,
      "outputs": []
    },
    {
      "cell_type": "markdown",
      "metadata": {
        "id": "m4fjoQ6kC4MT"
      },
      "source": [
        "## Movie에서 languages의 빈도수 시각화"
      ]
    },
    {
      "cell_type": "code",
      "metadata": {
        "id": "vwJdxL-4C6zj"
      },
      "source": [
        "df_movie_lan = df_movie.dropna(subset=['Languages'])\n",
        "movie_lan = df_movie_lan['Languages']\n",
        "doc2_len = []\n",
        "for i in movie_lan:\n",
        "    doc2_len.append(nlp(i))"
      ],
      "execution_count": null,
      "outputs": []
    },
    {
      "cell_type": "code",
      "metadata": {
        "id": "TGWWEXjMGwcX"
      },
      "source": [
        "doc2_len = nlp(str(doc2_len))\n",
        "len = [i.text  # 리스트화\n",
        "         for i in doc2_len \n",
        "         if not i.is_stop and not i.is_punct] "
      ],
      "execution_count": null,
      "outputs": []
    },
    {
      "cell_type": "code",
      "metadata": {
        "id": "Y17levNEDRFu"
      },
      "source": [
        "from collections import Counter  # 각 단어당 빈도수 확인\n",
        "len = Counter(len)"
      ],
      "execution_count": null,
      "outputs": []
    },
    {
      "cell_type": "code",
      "metadata": {
        "id": "eWgpizrREQUv"
      },
      "source": [
        "lan = len.copy()\n",
        "del(lan[' '])\n",
        "lan = pd.DataFrame(dict(lan),index=[0])\n",
        "lan =lan.T\n",
        "lan.columns = ['count']\n",
        "lan.sort_values(by = 'count',ascending = False,inplace = True)\n",
        "lan_df = lan[:10]"
      ],
      "execution_count": null,
      "outputs": []
    },
    {
      "cell_type": "code",
      "metadata": {
        "id": "4IsWLoTEHZrS"
      },
      "source": [
        "lan_df"
      ],
      "execution_count": null,
      "outputs": []
    },
    {
      "cell_type": "code",
      "metadata": {
        "id": "evKn1G02Hb2Y"
      },
      "source": [
        "squarify.plot(sizes=lan_df['count'], label = lan_df.index, value = lan_df['count'], )"
      ],
      "execution_count": null,
      "outputs": []
    },
    {
      "cell_type": "markdown",
      "metadata": {
        "id": "m3ubvCW9Hlsb"
      },
      "source": [
        "## series 런타임 분석\n",
        "- 모든행이 30분 이하이므로 시각화의 의미가 없다"
      ]
    },
    {
      "cell_type": "code",
      "metadata": {
        "id": "c23jBjifV9zG"
      },
      "source": [
        "df_series['Runtime']"
      ],
      "execution_count": null,
      "outputs": []
    },
    {
      "cell_type": "code",
      "metadata": {
        "id": "BJ3hnCceHw91"
      },
      "source": [
        "df_series_drt = df_series.dropna(subset=['Runtime'])\n",
        "df_series_drt['Runtime'].value_counts()"
      ],
      "execution_count": null,
      "outputs": []
    },
    {
      "cell_type": "markdown",
      "metadata": {
        "id": "n_i-lrKWV0vs"
      },
      "source": [
        "## movie 런타임 분석\n",
        "- 런타임 유형이 여러가지이므로 종류 별로 시각화 진행"
      ]
    },
    {
      "cell_type": "code",
      "metadata": {
        "id": "HdKtMWYnH9yk"
      },
      "source": [
        "df_movie_drt = df_movie.dropna(subset=['Runtime'])"
      ],
      "execution_count": null,
      "outputs": []
    },
    {
      "cell_type": "code",
      "metadata": {
        "id": "HEp3No0fVgvq"
      },
      "source": [
        "df_movie_drt['Runtime'].unique()"
      ],
      "execution_count": null,
      "outputs": []
    },
    {
      "cell_type": "code",
      "metadata": {
        "id": "aF8sTzy6H_ef"
      },
      "source": [
        "# 시각화는 위의 바차트와 동일하게 진행\n",
        "count_d = df_movie_drt['Runtime'].value_counts()\n",
        "fig = go.Figure(data=[go.Bar(\n",
        "    x = count_d.index,\n",
        "    y = count_d,\n",
        "    text = count_d,\n",
        "    textposition='auto',\n",
        "    marker_color=colors_10 # marker color can be a single color value or an iterable\n",
        ")])\n",
        "fig.update_traces(texttemplate='%{text:.2s}', textposition='outside')\n",
        "fig.update_layout(title_text= 'What is the average duration of a movie on Netflix?',\n",
        "                  yaxis=dict(\n",
        "                  title='Quantity',\n",
        "                  titlefont_size=14),\n",
        "                  xaxis=dict(\n",
        "                  title='Duration',\n",
        "                  titlefont_size=14))"
      ],
      "execution_count": null,
      "outputs": []
    },
    {
      "cell_type": "code",
      "metadata": {
        "id": "qVZqUTP3VptY"
      },
      "source": [
        ""
      ],
      "execution_count": null,
      "outputs": []
    }
  ]
}