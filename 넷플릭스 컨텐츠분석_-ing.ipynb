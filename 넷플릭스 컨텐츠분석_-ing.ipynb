{
  "nbformat": 4,
  "nbformat_minor": 0,
  "metadata": {
    "colab": {
      "name": "Untitled6.ipynb",
      "private_outputs": true,
      "provenance": [],
      "collapsed_sections": []
    },
    "kernelspec": {
      "name": "python3",
      "display_name": "Python 3"
    },
    "language_info": {
      "name": "python"
    },
    "accelerator": "GPU"
  },
  "cells": [
    {
      "cell_type": "markdown",
      "metadata": {
        "id": "M4U25o7meyim"
      },
      "source": [
        "# Netflix Movies and TV Shows\n",
        "- 데이터 셋 https://www.kaggle.com/shivamb/netflix-shows\n"
      ]
    },
    {
      "cell_type": "code",
      "metadata": {
        "id": "UNVfD5XnelkX"
      },
      "source": [
        "import numpy as np\n",
        "import pandas as pd\n",
        "import matplotlib\n",
        "import matplotlib.pyplot as plt\n",
        "import seaborn as sns"
      ],
      "execution_count": null,
      "outputs": []
    },
    {
      "cell_type": "code",
      "metadata": {
        "id": "lzFXamLYfWZK"
      },
      "source": [
        "df = pd.read_csv(\"netflix_titles.csv\")"
      ],
      "execution_count": null,
      "outputs": []
    },
    {
      "cell_type": "code",
      "metadata": {
        "id": "EqX_Nqo_fdBG"
      },
      "source": [
        "df.head(1)"
      ],
      "execution_count": null,
      "outputs": []
    },
    {
      "cell_type": "markdown",
      "metadata": {
        "id": "1jXoijWTfkGZ"
      },
      "source": [
        "**column 설명**\n",
        "- show_id : 영화 id값(기본키)\n",
        "- type : movie, tv_show\n",
        "- title : 영화나 티비 프로그램 제목\n",
        "- director : 감독\n",
        "- cast : 배우\n",
        "- country : 어디서 제작되었는지\n",
        "- date_added : 넷플릭스에 추가된 날짜\n",
        "- release_year : 실제로 영화가 제작된 날짜\n",
        "- rating : 등급/ 나이제한\n",
        "- duration : 총 시즌\n",
        "- listed_in : 장르\n",
        "- description : 프로그램 설명"
      ]
    },
    {
      "cell_type": "markdown",
      "metadata": {
        "id": "ImPTy7a9hD46"
      },
      "source": [
        "## null값 처리"
      ]
    },
    {
      "cell_type": "code",
      "metadata": {
        "id": "PjMdhYFKfePg"
      },
      "source": [
        "df.director.fillna(\"No Director\", inplace=True)\n",
        "df.cast.fillna(\"No Cast\", inplace=True)\n",
        "df.country.fillna(\"Country Unavailable\", inplace=True)\n",
        "df.dropna(subset=[\"date_added\", \"rating\"], inplace=True) # null값이 있는 행 drop"
      ],
      "execution_count": null,
      "outputs": []
    },
    {
      "cell_type": "code",
      "metadata": {
        "id": "5ars1tXNhHmK"
      },
      "source": [
        "df.info()"
      ],
      "execution_count": null,
      "outputs": []
    },
    {
      "cell_type": "markdown",
      "metadata": {
        "id": "8VTmG7XClOPh"
      },
      "source": [
        "### 간단한 인코딩"
      ]
    },
    {
      "cell_type": "code",
      "metadata": {
        "id": "97WLDn9KjtFs"
      },
      "source": [
        "df['year_added'] = df['date_added'].apply(lambda x: x.split(\" \")[-1])\n",
        "df['month_added'] = df['date_added'].apply(lambda x: x.split(\" \")[0])\n",
        "df.replace({'TV Show': 0, 'Movie': 1}, df[\"type\"]) # type 인코딩"
      ],
      "execution_count": null,
      "outputs": []
    },
    {
      "cell_type": "code",
      "metadata": {
        "id": "DrBH_k5Mk39F"
      },
      "source": [
        "ratings_ages = {  # 연령 인코딩\n",
        "    'TV-PG': 'Older Kids',\n",
        "    'TV-MA': 'Adults',\n",
        "    'TV-Y7-FV': 'Older Kids',\n",
        "    'TV-Y7': 'Older Kids',\n",
        "    'TV-14': 'Teens',\n",
        "    'R': 'Adults',\n",
        "    'TV-Y': 'Kids',\n",
        "    'NR': 'Adults',\n",
        "    'PG-13': 'Teens',\n",
        "    'TV-G': 'Kids',\n",
        "    'PG': 'Older Kids',\n",
        "    'G': 'Kids',\n",
        "    'UR': 'Adults',\n",
        "    'NC-17': 'Adults'\n",
        "}"
      ],
      "execution_count": null,
      "outputs": []
    },
    {
      "cell_type": "code",
      "metadata": {
        "id": "T-YN-35jk9UH"
      },
      "source": [
        "df['target_ages'] = df['rating'].replace(ratings_ages)"
      ],
      "execution_count": null,
      "outputs": []
    },
    {
      "cell_type": "markdown",
      "metadata": {
        "id": "J34xORKJlNGU"
      },
      "source": [
        "## 시각화"
      ]
    },
    {
      "cell_type": "markdown",
      "metadata": {
        "id": "etBGLP3klvLx"
      },
      "source": [
        "먼저 영화와 tv_show의 분포를 확인합니다.\n",
        "- 파이 차트로 확인 했을 때 movie가 69.1%로 tv_show의 30.9% 보다 두배가량 높다는 것을 확인할 수 있습니다. "
      ]
    },
    {
      "cell_type": "code",
      "metadata": {
        "id": "zB1bsbQilqdQ"
      },
      "source": [
        "plt.figure(figsize=(12,6))\n",
        "plt.title('Percentation of Netflix Titles that are either Movies or TV Shows')\n",
        "g = plt.pie(df.type.value_counts(),explode=(0.025,0.025),\n",
        "            labels=df.type.value_counts().index, colors=['red','green'],\n",
        "            autopct='%1.1f%%', startangle=180)\n",
        "plt.show()"
      ],
      "execution_count": null,
      "outputs": []
    },
    {
      "cell_type": "markdown",
      "metadata": {
        "id": "SbpbakKIl6zk"
      },
      "source": [
        "어느정도의 차이가 나는지 확인 할 수 있습니다."
      ]
    },
    {
      "cell_type": "code",
      "metadata": {
        "id": "stHx_dTblMvY"
      },
      "source": [
        "import plotly.graph_objects as go\n",
        "val = df['type'].value_counts().index\n",
        "cnt = df['type'].value_counts().values\n",
        "\n",
        "fig = go.Figure([go.Bar(x=val, y=cnt, marker_color='darkturquoise')])\n",
        "fig.update_layout(title_text='Netflix Sources Distribution', title_x=0.5)\n",
        "fig.show()"
      ],
      "execution_count": null,
      "outputs": []
    },
    {
      "cell_type": "markdown",
      "metadata": {
        "id": "LEIUQnZUlcCs"
      },
      "source": [
        "### 나라별 콘텐츠 수"
      ]
    },
    {
      "cell_type": "markdown",
      "metadata": {
        "id": "r4XJNoswmF3N"
      },
      "source": [
        "히스토그램으로 나라별 콘텐츠(영화와 tv쇼를 합한 값)을 보았을 때 미국이 1위, 다음으로 인도 등으로 이루어져 있었습니다."
      ]
    },
    {
      "cell_type": "code",
      "metadata": {
        "id": "F5BytRdSlZbh"
      },
      "source": [
        "countries=pd.crosstab(df[\"country\"],[\"type\"]).sort_values(by=\"type\",ascending=False)\n",
        "countries.head(10).plot(kind=\"bar\")\n",
        "plt.legend()\n",
        "plt.title(\"COUNTRY WITH HIGHEST NUMBER OF SHOWS\")\n",
        "plt.show()"
      ],
      "execution_count": null,
      "outputs": []
    },
    {
      "cell_type": "markdown",
      "metadata": {
        "id": "9ZnhR9qzmuZ6"
      },
      "source": [
        "### 년도별 영화와 tv쇼의 증가 추세확인"
      ]
    },
    {
      "cell_type": "markdown",
      "metadata": {
        "id": "tSO51J2lsxWd"
      },
      "source": [
        "-  영화의 실제 개봉년도로 비교했을 때에 2005년쯤 부터 영화 개봉이 tv쇼와 비교해 급격히 늘기 시작했고, 전체 영화와 tv쇼의 합과 추세가 비슷했습니다.\n",
        "- 그와 비슷하게 넷플릭스 출시 추세도 2015년쯤 부터 급격하게 증가하기 시작했습니다."
      ]
    },
    {
      "cell_type": "code",
      "metadata": {
        "id": "1zxr6mAOhhUL"
      },
      "source": [
        "df_movie = df[df['type']=='Movie'].groupby('release_year').count() # 같은 출시년의 영화들의 개수\n",
        "df_tv = df[df['type']=='TV Show'].groupby('release_year').count()\n",
        "df_total = df.groupby('release_year').count()\n",
        "\n",
        "df_movie.reset_index(level=0, inplace=True) # index를 0으로 초기화합니다\n",
        "df_tv.reset_index(level=0, inplace=True)"
      ],
      "execution_count": null,
      "outputs": []
    },
    {
      "cell_type": "code",
      "metadata": {
        "id": "Y0XiDv6kmrma"
      },
      "source": [
        "fig = go.Figure()\n",
        "fig.add_trace(go.Scatter(x=df_movie['release_year'], y=df_total['type'],\n",
        "                         mode='lines',\n",
        "                         name='total', marker_color='black'))\n",
        "fig.add_trace(go.Scatter(x=df_movie['release_year'], y=df_movie['type'],\n",
        "                    mode='lines',\n",
        "                    name='Movies', marker_color='mediumpurple'))\n",
        "fig.add_trace(go.Scatter(x=df_tv['release_year'], y=df_tv['type'],\n",
        "                    mode='lines',\n",
        "                    name='TV Shows', marker_color='lightcoral'))\n",
        "fig.update_layout(title_text='Trend Movies vs TV Shows in recent years', title_x=0.5)\n",
        "fig.show()"
      ],
      "execution_count": null,
      "outputs": []
    },
    {
      "cell_type": "code",
      "metadata": {
        "id": "RmZerpxwqB8T"
      },
      "source": [
        "df_movie = df[df['type']=='Movie'].groupby('year_added').count()\n",
        "df_tv = df[df['type']=='TV Show'].groupby('year_added').count()\n",
        "df_total = df.groupby('year_added').count()\n",
        "\n",
        "df_movie.reset_index(level=0, inplace=True)\n",
        "df_tv.reset_index(level=0, inplace=True)\n"
      ],
      "execution_count": null,
      "outputs": []
    },
    {
      "cell_type": "code",
      "metadata": {
        "id": "vwblwwmYsm4m"
      },
      "source": [
        "fig = go.Figure()\n",
        "fig.add_trace(go.Scatter(x=df_movie['year_added'], y=df_total['type'],\n",
        "                    mode='lines',\n",
        "                    name='total', marker_color='black'))\n",
        "fig.add_trace(go.Scatter(x=df_movie['year_added'], y=df_movie['type'],\n",
        "                    mode='lines',\n",
        "                    name='Movies', marker_color='mediumpurple'))\n",
        "fig.add_trace(go.Scatter(x=df_tv['year_added'], y=df_tv['type'],\n",
        "                    mode='lines',\n",
        "                    name='TV Shows', marker_color='lightcoral'))\n",
        "fig.update_layout(title_text='Trend Movies vs TV Shows in year added', title_x=0.5)\n",
        "fig.show()"
      ],
      "execution_count": null,
      "outputs": []
    },
    {
      "cell_type": "code",
      "metadata": {
        "id": "6Cqq3d03suSw"
      },
      "source": [
        ""
      ],
      "execution_count": null,
      "outputs": []
    }
  ]
}