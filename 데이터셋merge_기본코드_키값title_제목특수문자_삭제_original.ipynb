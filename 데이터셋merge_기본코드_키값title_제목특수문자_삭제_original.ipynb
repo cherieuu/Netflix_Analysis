{
  "nbformat": 4,
  "nbformat_minor": 0,
  "metadata": {
    "colab": {
      "name": "데이터셋merge_기본코드_키값title_제목특수문자 삭제_original.ipynb",
      "private_outputs": true,
      "provenance": []
    },
    "hide_input": false,
    "kernelspec": {
      "display_name": "Python 3",
      "language": "python",
      "name": "python3"
    },
    "language_info": {
      "codemirror_mode": {
        "name": "ipython",
        "version": 3
      },
      "file_extension": ".py",
      "mimetype": "text/x-python",
      "name": "python",
      "nbconvert_exporter": "python",
      "pygments_lexer": "ipython3",
      "version": "3.9.5"
    },
    "latex_envs": {
      "LaTeX_envs_menu_present": true,
      "autoclose": false,
      "autocomplete": true,
      "bibliofile": "biblio.bib",
      "cite_by": "apalike",
      "current_citInitial": 1,
      "eqLabelWithNumbers": true,
      "eqNumInitial": 1,
      "hotkeys": {
        "equation": "Ctrl-E",
        "itemize": "Ctrl-I"
      },
      "labels_anchors": false,
      "latex_user_defs": false,
      "report_style_numbering": false,
      "user_envs_cfg": false
    },
    "toc": {
      "base_numbering": 1,
      "nav_menu": {},
      "number_sections": true,
      "sideBar": true,
      "skip_h1_title": false,
      "title_cell": "Table of Contents",
      "title_sidebar": "Contents",
      "toc_cell": false,
      "toc_position": {},
      "toc_section_display": true,
      "toc_window_display": false
    },
    "varInspector": {
      "cols": {
        "lenName": 16,
        "lenType": 16,
        "lenVar": 40
      },
      "kernels_config": {
        "python": {
          "delete_cmd_postfix": "",
          "delete_cmd_prefix": "del ",
          "library": "var_list.py",
          "varRefreshCmd": "print(var_dic_list())"
        },
        "r": {
          "delete_cmd_postfix": ") ",
          "delete_cmd_prefix": "rm(",
          "library": "var_list.r",
          "varRefreshCmd": "cat(var_dic_list()) "
        }
      },
      "types_to_exclude": [
        "module",
        "function",
        "builtin_function_or_method",
        "instance",
        "_Feature"
      ],
      "window_display": false
    }
  },
  "cells": [
    {
      "cell_type": "markdown",
      "metadata": {
        "id": "S3GYyaDoD_NL"
      },
      "source": [
        "# 데이터셋 머지 실행"
      ]
    },
    {
      "cell_type": "code",
      "metadata": {
        "ExecuteTime": {
          "end_time": "2021-07-11T07:27:40.047515Z",
          "start_time": "2021-07-11T07:27:39.229431Z"
        },
        "id": "71iN5rEjd77x"
      },
      "source": [
        "import pandas as pd"
      ],
      "execution_count": null,
      "outputs": []
    },
    {
      "cell_type": "code",
      "metadata": {
        "ExecuteTime": {
          "end_time": "2021-07-11T07:27:41.013281Z",
          "start_time": "2021-07-11T07:27:40.049108Z"
        },
        "id": "AmzuVtQCfhkG"
      },
      "source": [
        "flix= pd.read_excel('./1. flixpatrol_1.xlsx')\n",
        "netflix = pd.read_csv('./2. netflix-rotten-tomatoes-metacritic-imdb.csv')"
      ],
      "execution_count": null,
      "outputs": []
    },
    {
      "cell_type": "markdown",
      "metadata": {
        "id": "Cknk_vXP_s37"
      },
      "source": [
        "## 데이터 확인"
      ]
    },
    {
      "cell_type": "code",
      "metadata": {
        "ExecuteTime": {
          "end_time": "2021-07-11T07:27:41.033690Z",
          "start_time": "2021-07-11T07:27:41.019350Z"
        },
        "id": "hhGwNCIvyAgf"
      },
      "source": [
        "flix.isnull().sum()"
      ],
      "execution_count": null,
      "outputs": []
    },
    {
      "cell_type": "code",
      "metadata": {
        "ExecuteTime": {
          "end_time": "2021-07-11T07:27:41.051744Z",
          "start_time": "2021-07-11T07:27:41.036190Z"
        },
        "id": "hob8l7Mn7zCK"
      },
      "source": [
        "flix.head(1)"
      ],
      "execution_count": null,
      "outputs": []
    },
    {
      "cell_type": "code",
      "metadata": {
        "ExecuteTime": {
          "end_time": "2021-07-11T07:27:41.080246Z",
          "start_time": "2021-07-11T07:27:41.053733Z"
        },
        "id": "k9n8Rh2zADNK"
      },
      "source": [
        "netflix.isnull().sum()"
      ],
      "execution_count": null,
      "outputs": []
    },
    {
      "cell_type": "code",
      "metadata": {
        "ExecuteTime": {
          "end_time": "2021-07-11T07:27:41.118163Z",
          "start_time": "2021-07-11T07:27:41.083163Z"
        },
        "id": "x_9eoSyEAG1p"
      },
      "source": [
        "netflix.head(1)"
      ],
      "execution_count": null,
      "outputs": []
    },
    {
      "cell_type": "markdown",
      "metadata": {
        "id": "F64XK7Wb_2a3"
      },
      "source": [
        "## flix데이터 컬럼 정리"
      ]
    },
    {
      "cell_type": "code",
      "metadata": {
        "ExecuteTime": {
          "end_time": "2021-07-11T07:27:41.129270Z",
          "start_time": "2021-07-11T07:27:41.126129Z"
        },
        "id": "sAlYIZp14yXt"
      },
      "source": [
        "df_new_flix = flix.copy()"
      ],
      "execution_count": null,
      "outputs": []
    },
    {
      "cell_type": "code",
      "metadata": {
        "ExecuteTime": {
          "end_time": "2021-07-11T07:27:41.146247Z",
          "start_time": "2021-07-11T07:27:41.133570Z"
        },
        "id": "yvKHRJzTg_f9"
      },
      "source": [
        "df_new_flix.isnull().sum()"
      ],
      "execution_count": null,
      "outputs": []
    },
    {
      "cell_type": "code",
      "metadata": {
        "ExecuteTime": {
          "end_time": "2021-07-11T07:27:41.168565Z",
          "start_time": "2021-07-11T07:27:41.149030Z"
        },
        "id": "UMKSQ3Fdf68a"
      },
      "source": [
        "# 컬럼 이름 초기화\n",
        "df_new_flix.columns = ['#', 'Title', 'Series or Movie', 'COUNTRY', 'Release Date', 'GENRE', 'COMPANY','VALUE']\n",
        "df_new_flix.head(2)"
      ],
      "execution_count": null,
      "outputs": []
    },
    {
      "cell_type": "code",
      "metadata": {
        "ExecuteTime": {
          "end_time": "2021-07-11T07:27:41.177862Z",
          "start_time": "2021-07-11T07:27:41.172685Z"
        },
        "id": "UCAXVVnt09ik"
      },
      "source": [
        "df_new_flix.drop(columns = ['#','COMPANY'],axis =1,inplace=True)  # 랭킹 값과 정확하지 않은 제작사 컬럼 드랍"
      ],
      "execution_count": null,
      "outputs": []
    },
    {
      "cell_type": "code",
      "metadata": {
        "ExecuteTime": {
          "end_time": "2021-07-11T07:27:41.200042Z",
          "start_time": "2021-07-11T07:27:41.181483Z"
        },
        "id": "eGww_frG1nai"
      },
      "source": [
        "df_new_flix.head(2)"
      ],
      "execution_count": null,
      "outputs": []
    },
    {
      "cell_type": "markdown",
      "metadata": {
        "id": "4GNJu1bWAM1Q"
      },
      "source": [
        "## 데이터 인코딩"
      ]
    },
    {
      "cell_type": "code",
      "metadata": {
        "ExecuteTime": {
          "end_time": "2021-07-11T07:27:41.214985Z",
          "start_time": "2021-07-11T07:27:41.202816Z"
        },
        "id": "6k9_9bZYBhw4"
      },
      "source": [
        "df_new_flix['Title'] = df_new_flix['Title'].str.replace(pat=r'[^\\w]', repl=r'', regex=True)\n",
        "df_new_flix['Title'].iloc[0]"
      ],
      "execution_count": null,
      "outputs": []
    },
    {
      "cell_type": "code",
      "metadata": {
        "ExecuteTime": {
          "end_time": "2021-07-11T07:27:41.234501Z",
          "start_time": "2021-07-11T07:27:41.218309Z"
        },
        "id": "KsT--L5V2uij"
      },
      "source": [
        "df_new_flix['Release Date'] = pd.to_datetime(df_new_flix['Release Date'])\n",
        "netflix['Netflix Release Date'] = pd.to_datetime(netflix['Netflix Release Date'])"
      ],
      "execution_count": null,
      "outputs": []
    },
    {
      "cell_type": "code",
      "metadata": {
        "ExecuteTime": {
          "end_time": "2021-07-11T07:27:41.284232Z",
          "start_time": "2021-07-11T07:27:41.236687Z"
        },
        "id": "BB134xpv_HrC"
      },
      "source": [
        "netflix['Title'] = netflix['Title'].str.replace(pat=r'[^\\w]', repl=r'', regex=True)\n",
        "netflix['Title'].iloc[0]"
      ],
      "execution_count": null,
      "outputs": []
    },
    {
      "cell_type": "code",
      "metadata": {
        "ExecuteTime": {
          "end_time": "2021-07-11T07:27:41.291502Z",
          "start_time": "2021-07-11T07:27:41.286245Z"
        },
        "id": "zTeDhOcmGDEy"
      },
      "source": [
        "df_new_flix['Title'].iloc[0]"
      ],
      "execution_count": null,
      "outputs": []
    },
    {
      "cell_type": "code",
      "metadata": {
        "ExecuteTime": {
          "end_time": "2021-07-11T07:27:49.423510Z",
          "start_time": "2021-07-11T07:27:41.293883Z"
        },
        "id": "2F3wXgFT2Spo"
      },
      "source": [
        "for i in range(len(df_new_flix['Title'])):\n",
        "    df_new_flix['Title'].iloc[i]= df_new_flix['Title'].iloc[i].lower()\n",
        "for i in range(len(netflix['Title'])):\n",
        "    netflix['Title'].iloc[i] = netflix['Title'].iloc[i].lower()"
      ],
      "execution_count": null,
      "outputs": []
    },
    {
      "cell_type": "code",
      "metadata": {
        "ExecuteTime": {
          "end_time": "2021-07-11T07:27:49.516089Z",
          "start_time": "2021-07-11T07:27:49.439272Z"
        },
        "id": "eD2rkqr6spee"
      },
      "source": [
        ""
      ],
      "execution_count": null,
      "outputs": []
    },
    {
      "cell_type": "markdown",
      "metadata": {
        "id": "96svd3Z3ARDe"
      },
      "source": [
        "## 넷플릭스 데이터 정리"
      ]
    },
    {
      "cell_type": "code",
      "metadata": {
        "ExecuteTime": {
          "end_time": "2021-07-11T07:27:49.547837Z",
          "start_time": "2021-07-11T07:27:49.519587Z"
        },
        "id": "7Ydl3DuYgCut"
      },
      "source": [
        "netflix.head(1)"
      ],
      "execution_count": null,
      "outputs": []
    },
    {
      "cell_type": "code",
      "metadata": {
        "ExecuteTime": {
          "end_time": "2021-07-11T07:27:49.560526Z",
          "start_time": "2021-07-11T07:27:49.549833Z"
        },
        "id": "AVID8qYn_H4P"
      },
      "source": [
        "netflix.drop(columns = ['Series or Movie','Release Date'],axis =1,inplace=True)  # 정확하지 않은 type 행과 출시일 제거"
      ],
      "execution_count": null,
      "outputs": []
    },
    {
      "cell_type": "code",
      "metadata": {
        "ExecuteTime": {
          "end_time": "2021-07-11T07:27:49.573521Z",
          "start_time": "2021-07-11T07:27:49.569075Z"
        },
        "id": "cufJddFFDItP"
      },
      "source": [
        "netflix.columns"
      ],
      "execution_count": null,
      "outputs": []
    },
    {
      "cell_type": "code",
      "metadata": {
        "ExecuteTime": {
          "end_time": "2021-07-11T07:27:49.588256Z",
          "start_time": "2021-07-11T07:27:49.583415Z"
        },
        "id": "y4yGw6EEDOyT"
      },
      "source": [
        "netflix.columns = ['Title', 'Genre_all', 'Tags', 'Languages', 'Hidden Gem Score',\n",
        "       'Country Availability', 'Runtime', 'Director', 'Writer', 'Actors',\n",
        "       'View Rating', 'IMDb Score', 'Rotten Tomatoes Score',\n",
        "       'Metacritic Score', 'Awards Received', 'Awards Nominated For',\n",
        "       'Boxoffice', 'Netflix Release Date', 'Production House', 'Netflix Link',\n",
        "       'IMDb Link', 'Summary', 'IMDb Votes', 'Image', 'Poster', 'TMDb Trailer',\n",
        "       'Trailer Site']"
      ],
      "execution_count": null,
      "outputs": []
    },
    {
      "cell_type": "code",
      "metadata": {
        "ExecuteTime": {
          "end_time": "2021-07-11T07:27:49.612892Z",
          "start_time": "2021-07-11T07:27:49.591122Z"
        },
        "id": "zv0yXr9C_H1s"
      },
      "source": [
        "netflix.head(1)"
      ],
      "execution_count": null,
      "outputs": []
    },
    {
      "cell_type": "code",
      "metadata": {
        "id": "9J-bILM8s6MV"
      },
      "source": [
        "# 중복되는 제목확인\n",
        "\n",
        "print(netflix.Title.duplicated())\n",
        "print(netflix.Title.duplicated().sum())\n",
        "print()"
      ],
      "execution_count": null,
      "outputs": []
    },
    {
      "cell_type": "code",
      "metadata": {
        "id": "gOhlY2a3sz78"
      },
      "source": [
        "# 중복되는 첫번째 행을 드랍\n",
        "\n",
        "dfdf=netflix.drop_duplicates(['Title'], keep = 'first')\n",
        "dfdf"
      ],
      "execution_count": null,
      "outputs": []
    },
    {
      "cell_type": "markdown",
      "metadata": {
        "id": "J8HCC3rmAXWU"
      },
      "source": [
        "## 데이터 merge"
      ]
    },
    {
      "cell_type": "code",
      "metadata": {
        "ExecuteTime": {
          "end_time": "2021-07-11T07:27:49.628968Z",
          "start_time": "2021-07-11T07:27:49.615651Z"
        },
        "id": "p1Yn7T9kgaSO"
      },
      "source": [
        "df = df_new_flix.copy()  # 정리된 flix 데이터 복사"
      ],
      "execution_count": null,
      "outputs": []
    },
    {
      "cell_type": "code",
      "metadata": {
        "ExecuteTime": {
          "end_time": "2021-07-11T07:27:49.649116Z",
          "start_time": "2021-07-11T07:27:49.631977Z"
        },
        "id": "10LHjF0nAj_M"
      },
      "source": [
        "df.info()"
      ],
      "execution_count": null,
      "outputs": []
    },
    {
      "cell_type": "code",
      "metadata": {
        "ExecuteTime": {
          "end_time": "2021-07-11T07:27:49.694728Z",
          "start_time": "2021-07-11T07:27:49.652261Z"
        },
        "id": "ORp2HeNlglNR"
      },
      "source": [
        "merge_set = pd.merge(df,dfdf, on=['Title'])  # 제목을 기준으로 머지"
      ],
      "execution_count": null,
      "outputs": []
    },
    {
      "cell_type": "code",
      "metadata": {
        "ExecuteTime": {
          "end_time": "2021-07-11T07:27:49.715863Z",
          "start_time": "2021-07-11T07:27:49.700272Z"
        },
        "id": "z-Yu2xnFhOU5"
      },
      "source": [
        "merge_set.isnull().sum()"
      ],
      "execution_count": null,
      "outputs": []
    },
    {
      "cell_type": "code",
      "metadata": {
        "ExecuteTime": {
          "end_time": "2021-07-11T07:27:49.754462Z",
          "start_time": "2021-07-11T07:27:49.718605Z"
        },
        "id": "Z43YxXEDhsZY"
      },
      "source": [
        "merge_set.head(1)"
      ],
      "execution_count": null,
      "outputs": []
    },
    {
      "cell_type": "code",
      "metadata": {
        "id": "bRr870wsA5Eq"
      },
      "source": [
        ""
      ],
      "execution_count": null,
      "outputs": []
    },
    {
      "cell_type": "code",
      "metadata": {
        "ExecuteTime": {
          "end_time": "2021-07-11T07:27:49.768733Z",
          "start_time": "2021-07-11T07:27:49.758502Z"
        },
        "id": "sLKaMx_UhlnH"
      },
      "source": [
        "use_df = merge_set.drop(columns = ['Netflix Link', 'IMDb Link',\n",
        "                        'Poster', 'TMDb Trailer', 'Trailer Site','Image'], axis =1)"
      ],
      "execution_count": null,
      "outputs": []
    },
    {
      "cell_type": "code",
      "metadata": {
        "ExecuteTime": {
          "end_time": "2021-07-11T07:27:49.794306Z",
          "start_time": "2021-07-11T07:27:49.772245Z"
        },
        "id": "SFxVvBdW3Hj_"
      },
      "source": [
        "use_df.info()"
      ],
      "execution_count": null,
      "outputs": []
    },
    {
      "cell_type": "code",
      "metadata": {
        "ExecuteTime": {
          "end_time": "2021-07-11T07:27:49.810459Z",
          "start_time": "2021-07-11T07:27:49.797343Z"
        },
        "id": "89UTzbhyjnHq"
      },
      "source": [
        "use_df.isnull().sum()"
      ],
      "execution_count": null,
      "outputs": []
    },
    {
      "cell_type": "code",
      "metadata": {
        "ExecuteTime": {
          "end_time": "2021-07-11T07:27:49.839320Z",
          "start_time": "2021-07-11T07:27:49.812974Z"
        },
        "id": "wK8VTE0A2Cf8"
      },
      "source": [
        "use_df.head(1)"
      ],
      "execution_count": null,
      "outputs": []
    },
    {
      "cell_type": "code",
      "metadata": {
        "ExecuteTime": {
          "end_time": "2021-07-11T07:28:28.788107Z",
          "start_time": "2021-07-11T07:28:28.665573Z"
        },
        "id": "yfhyDZKqkFif"
      },
      "source": [
        "use_df.to_csv('use_df.csv')"
      ],
      "execution_count": null,
      "outputs": []
    },
    {
      "cell_type": "code",
      "metadata": {
        "ExecuteTime": {
          "end_time": "2021-07-11T07:27:50.035657Z",
          "start_time": "2021-07-11T07:27:50.007933Z"
        },
        "id": "k0IbQtQhlU1z"
      },
      "source": [
        "use_df.corr()"
      ],
      "execution_count": null,
      "outputs": []
    },
    {
      "cell_type": "code",
      "metadata": {
        "ExecuteTime": {
          "end_time": "2021-07-11T07:29:47.506757Z",
          "start_time": "2021-07-11T07:29:47.487625Z"
        },
        "id": "DdmPpIWg6oUE"
      },
      "source": [
        "use_df.info()"
      ],
      "execution_count": null,
      "outputs": []
    },
    {
      "cell_type": "code",
      "metadata": {
        "id": "ElI8JLhtspej"
      },
      "source": [
        ""
      ],
      "execution_count": null,
      "outputs": []
    }
  ]
}