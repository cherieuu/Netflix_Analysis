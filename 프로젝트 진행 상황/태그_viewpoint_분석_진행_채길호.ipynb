{
  "nbformat": 4,
  "nbformat_minor": 0,
  "metadata": {
    "colab": {
      "name": "태그_viewpoint_분석_진행.ipynb",
      "private_outputs": true,
      "provenance": [],
      "collapsed_sections": [
        "C26En-ZjVJeL",
        "FPh39Hx7OD_1",
        "7IFFn69bK6MO",
        "70QQnzxAVMWI",
        "wUNrooFnLwDf"
      ]
    },
    "kernelspec": {
      "name": "python3",
      "display_name": "Python 3"
    },
    "language_info": {
      "name": "python"
    },
    "accelerator": "GPU"
  },
  "cells": [
    {
      "cell_type": "markdown",
      "metadata": {
        "id": "TbaZuUY5JRUP"
      },
      "source": [
        "# Tag_viewpoint 분석"
      ]
    },
    {
      "cell_type": "code",
      "metadata": {
        "id": "jCctCf0mOQxn"
      },
      "source": [
        "import pandas as pd\n",
        "import numpy as np\n",
        "\n",
        "# 데이터 시각화\n",
        "import matplotlib.pyplot as plt\n",
        "import plotly.graph_objects as go\n",
        "import seaborn as sns\n",
        "\n",
        "# 가설검정\n",
        "from scipy import stats\n",
        "\n",
        "# 경고문구 무시\n",
        "import warnings\n",
        "warnings.filterwarnings(\"ignore\")\n",
        "# 자연어 처리\n",
        "# import spacy"
      ],
      "execution_count": null,
      "outputs": []
    },
    {
      "cell_type": "markdown",
      "metadata": {
        "id": "C26En-ZjVJeL"
      },
      "source": [
        "## 데이터 정보확인"
      ]
    },
    {
      "cell_type": "code",
      "metadata": {
        "id": "HVxoUEwcTojk"
      },
      "source": [
        "df = pd.read_csv('use_df.csv')"
      ],
      "execution_count": null,
      "outputs": []
    },
    {
      "cell_type": "code",
      "metadata": {
        "id": "RRwFCTVoT4Ta"
      },
      "source": [
        "df.head(2)"
      ],
      "execution_count": null,
      "outputs": []
    },
    {
      "cell_type": "code",
      "metadata": {
        "id": "BmIDmetlOQk5"
      },
      "source": [
        "df.describe()"
      ],
      "execution_count": null,
      "outputs": []
    },
    {
      "cell_type": "code",
      "metadata": {
        "id": "KqDzopEbTZ6c"
      },
      "source": [
        "colors = ['black',] * 2\n",
        "colors[0] = 'crimson'\n",
        "count = df['Series or Movie'].value_counts()"
      ],
      "execution_count": null,
      "outputs": []
    },
    {
      "cell_type": "code",
      "metadata": {
        "id": "Lb4v0dacTmoY"
      },
      "source": [
        "# 데이터 시각화 plot.graph_objects 사용\n",
        "fig = go.Figure(data=[go.Bar(\n",
        "    x = df[\"Series or Movie\"],\n",
        "    y = count,\n",
        "    text = count,\n",
        "    textposition='auto',\n",
        "    marker_color=colors \n",
        ")])"
      ],
      "execution_count": null,
      "outputs": []
    },
    {
      "cell_type": "code",
      "metadata": {
        "id": "cuqfVayBURuT"
      },
      "source": [
        "# 바차트 제목 및 y축 라벨, x축 라벨 그리기\n",
        "fig.update_traces(texttemplate='%{text:.2s}', textposition='outside')\n",
        "fig.update_layout(title_text= 'More Movie or Tv Series?',\n",
        "                  yaxis=dict(\n",
        "                  title='Quantity',\n",
        "                  titlefont_size= 14),\n",
        "                  xaxis=dict(\n",
        "                  title='Category',\n",
        "                  titlefont_size= 14)\n",
        "                  )"
      ],
      "execution_count": null,
      "outputs": []
    },
    {
      "cell_type": "markdown",
      "metadata": {
        "id": "FPh39Hx7OD_1"
      },
      "source": [
        "## viewpoint 정규화\n",
        "- min-max 정규화 실시"
      ]
    },
    {
      "cell_type": "code",
      "metadata": {
        "id": "NuxpZ1PFScTx"
      },
      "source": [
        "df['VALUE_std'] = (df['VALUE'] - df['VALUE'].min())/df['VALUE'].max()"
      ],
      "execution_count": null,
      "outputs": []
    },
    {
      "cell_type": "code",
      "metadata": {
        "id": "zKr__lL6nv5V"
      },
      "source": [
        ""
      ],
      "execution_count": null,
      "outputs": []
    },
    {
      "cell_type": "markdown",
      "metadata": {
        "id": "qKdMtuZajniH"
      },
      "source": [
        "- 표준화 실시"
      ]
    },
    {
      "cell_type": "code",
      "metadata": {
        "id": "hNLrmDqujm97"
      },
      "source": [
        "df['VALUE_norm'] = (df['VALUE'] -df['VALUE'].mean())/df['VALUE'].std()"
      ],
      "execution_count": null,
      "outputs": []
    },
    {
      "cell_type": "code",
      "metadata": {
        "id": "J4C3WotoScEN"
      },
      "source": [
        ""
      ],
      "execution_count": null,
      "outputs": []
    },
    {
      "cell_type": "markdown",
      "metadata": {
        "id": "7IFFn69bK6MO"
      },
      "source": [
        "## Tag_count 변수 추가"
      ]
    },
    {
      "cell_type": "code",
      "metadata": {
        "id": "baRFhIMxK7sf"
      },
      "source": [
        "len(str(df.Tags.iloc[0]).split(','))"
      ],
      "execution_count": null,
      "outputs": []
    },
    {
      "cell_type": "code",
      "metadata": {
        "id": "qJuP-GjZLEyP"
      },
      "source": [
        "rows = len(df['Tags'])"
      ],
      "execution_count": null,
      "outputs": []
    },
    {
      "cell_type": "code",
      "metadata": {
        "id": "XCV6JAbsLJ1G"
      },
      "source": [
        "df['Tags'].iloc[0]"
      ],
      "execution_count": null,
      "outputs": []
    },
    {
      "cell_type": "code",
      "metadata": {
        "id": "oDuKjX92SL1K"
      },
      "source": [
        "df['Tag_count'] = 0"
      ],
      "execution_count": null,
      "outputs": []
    },
    {
      "cell_type": "code",
      "metadata": {
        "id": "h_73T16nLJzD"
      },
      "source": [
        "for i in range(rows):\n",
        "    df.Tag_count[i] = len(str(df.Tags.iloc[i]).split(','))"
      ],
      "execution_count": null,
      "outputs": []
    },
    {
      "cell_type": "code",
      "metadata": {
        "id": "G83dXIaTLJv7"
      },
      "source": [
        "df.head(1)"
      ],
      "execution_count": null,
      "outputs": []
    },
    {
      "cell_type": "code",
      "metadata": {
        "id": "i9WEujEoLJez"
      },
      "source": [
        "# 정규화 진행\n",
        "\n",
        "df['Tag_count_norm'] = (df['Tag_count'] - df['Tag_count'].min())/df['Tag_count'].max()  ## "
      ],
      "execution_count": null,
      "outputs": []
    },
    {
      "cell_type": "markdown",
      "metadata": {
        "id": "70QQnzxAVMWI"
      },
      "source": [
        "## movie 데이터와 series 데이터 분리"
      ]
    },
    {
      "cell_type": "code",
      "metadata": {
        "id": "KuSasTQZVPo8"
      },
      "source": [
        "df_movie = df[df['Series or Movie']=='Movie']\n",
        "df_series = df[df[\"Series or Movie\"] == \"Series\"]"
      ],
      "execution_count": null,
      "outputs": []
    },
    {
      "cell_type": "code",
      "metadata": {
        "id": "iwUX0X6iVipA"
      },
      "source": [
        ""
      ],
      "execution_count": null,
      "outputs": []
    },
    {
      "cell_type": "markdown",
      "metadata": {
        "id": "wUNrooFnLwDf"
      },
      "source": [
        "## movie 태그 수와 viewpoint\n",
        "- 데이터 정리 및 카이제곱 검정(독립성 검사)"
      ]
    },
    {
      "cell_type": "code",
      "metadata": {
        "id": "6Rh3FXyELv0Y"
      },
      "source": [
        "df_movie.head(1)"
      ],
      "execution_count": null,
      "outputs": []
    },
    {
      "cell_type": "code",
      "metadata": {
        "id": "IX52lZbrMFCK"
      },
      "source": [
        "df_count = df_movie[['VALUE','Tag_count']]"
      ],
      "execution_count": null,
      "outputs": []
    },
    {
      "cell_type": "code",
      "metadata": {
        "id": "rBwZLMvaMVpR"
      },
      "source": [
        "df_count.isnull().sum()"
      ],
      "execution_count": null,
      "outputs": []
    },
    {
      "cell_type": "code",
      "metadata": {
        "id": "mgZaWNqDMVmd"
      },
      "source": [
        "df_count.describe()"
      ],
      "execution_count": null,
      "outputs": []
    },
    {
      "cell_type": "markdown",
      "metadata": {
        "id": "qamA8UbTfgwX"
      },
      "source": [
        "### 카이제곱검정 \n",
        "- 귀무가설 : 두 변수는 연관성이 없다, 차이가 없다. \n",
        "    - => tag_count의 증감은 value와의 상관성이 없다 \n",
        "- 대립가설 : 두 변수는 연관성이 있다, 차이가 있다\n",
        "    - => tag_count의 증감은 value와의 상관성이 있다"
      ]
    },
    {
      "cell_type": "code",
      "metadata": {
        "id": "KnJto9pSd6Ml"
      },
      "source": [
        "value = list(df_count.VALUE)\n",
        "tag_count = list(df_count.Tag_count)"
      ],
      "execution_count": null,
      "outputs": []
    },
    {
      "cell_type": "code",
      "metadata": {
        "id": "OFWDC1RneQBX"
      },
      "source": [
        "chis= stats.chisquare(value, tag_count)"
      ],
      "execution_count": null,
      "outputs": []
    },
    {
      "cell_type": "code",
      "metadata": {
        "id": "zHJSnEY9ZOwj"
      },
      "source": [
        "statistic,pvalue = chis\n",
        "print(\"static : {}, p-value : {}\".format(statistic,pvalue))\n",
        "if pvalue < 0.05:\n",
        "    print(\"신뢰수준하에서 유의한 관계. 대립가설 채택\")\n",
        "else:\n",
        "    print(\"신뢰수준하에서 무의미한 관계. 귀무가설 채택\")"
      ],
      "execution_count": null,
      "outputs": []
    },
    {
      "cell_type": "code",
      "metadata": {
        "id": "KnnElnzLMVkD"
      },
      "source": [
        "df_count.corr()"
      ],
      "execution_count": null,
      "outputs": []
    },
    {
      "cell_type": "code",
      "metadata": {
        "id": "fxtV8ScTiXvO"
      },
      "source": [
        "plt.scatter(value, tag_count)\n",
        "plt.show()"
      ],
      "execution_count": null,
      "outputs": []
    },
    {
      "cell_type": "markdown",
      "metadata": {
        "id": "VYUs7S8Zpj6i"
      },
      "source": [
        " -  카이제곱검정 결과 두 변수들간의 유의수준 0.05에서 tag_count의 증감은 value와의 상관성이 있다고 할 수 있다.\n",
        " - 산점도와 상관계수 확인을 해봤을 때 약한 양의 상관성이 있다고 볼 수 있다."
      ]
    },
    {
      "cell_type": "code",
      "metadata": {
        "id": "k55bx7pCMVI8"
      },
      "source": [
        ""
      ],
      "execution_count": null,
      "outputs": []
    },
    {
      "cell_type": "markdown",
      "metadata": {
        "id": "V51jaOp4WURQ"
      },
      "source": [
        "## movie 태그들과 viewpoint\n",
        " - 귀무가설 : 태그들은 viewpoint에 영향이 없다\n",
        " - 대립가설 : 태그들은 viewpoint에 영향이 있다"
      ]
    },
    {
      "cell_type": "markdown",
      "metadata": {
        "id": "gEonnekSzszs"
      },
      "source": [
        "### 태그 분할"
      ]
    },
    {
      "cell_type": "code",
      "metadata": {
        "id": "VQFDriERbao5"
      },
      "source": [
        "df_tag = df_movie[['VALUE','Tags']]"
      ],
      "execution_count": null,
      "outputs": []
    },
    {
      "cell_type": "code",
      "metadata": {
        "id": "jvovRNsIdXJs"
      },
      "source": [
        "df_tag.head(1)"
      ],
      "execution_count": null,
      "outputs": []
    },
    {
      "cell_type": "code",
      "metadata": {
        "id": "XG1-OXDZmOtL"
      },
      "source": [
        "df_tag.info()"
      ],
      "execution_count": null,
      "outputs": []
    },
    {
      "cell_type": "code",
      "metadata": {
        "id": "jWAAFHepd1eZ"
      },
      "source": [
        "df_tag.set_index('VALUE',inplace=True)"
      ],
      "execution_count": null,
      "outputs": []
    },
    {
      "cell_type": "code",
      "metadata": {
        "id": "35TgOVR6eFgU"
      },
      "source": [
        "df_tag.head(10)"
      ],
      "execution_count": null,
      "outputs": []
    },
    {
      "cell_type": "code",
      "metadata": {
        "id": "Su-jVH0TcJva"
      },
      "source": [
        "result = df_tag['Tags'].str.split(',')  # 리스트화"
      ],
      "execution_count": null,
      "outputs": []
    },
    {
      "cell_type": "code",
      "metadata": {
        "id": "dqQT7zFHcdEp"
      },
      "source": [
        "result = result.apply(lambda x: pd.Series(x))"
      ],
      "execution_count": null,
      "outputs": []
    },
    {
      "cell_type": "code",
      "metadata": {
        "id": "m7o6T0xLcc8M"
      },
      "source": [
        "result.stack()"
      ],
      "execution_count": null,
      "outputs": []
    },
    {
      "cell_type": "code",
      "metadata": {
        "id": "6K0XGl8ZcczK"
      },
      "source": [
        "result.stack().reset_index(level=1, drop=True)"
      ],
      "execution_count": null,
      "outputs": []
    },
    {
      "cell_type": "code",
      "metadata": {
        "id": "WgQFT3y6ccl1"
      },
      "source": [
        "result = result.stack().reset_index(level=1, drop=True).to_frame('Tag_single')\n",
        "result"
      ],
      "execution_count": null,
      "outputs": []
    },
    {
      "cell_type": "code",
      "metadata": {
        "id": "YJQBsQOrdGaM"
      },
      "source": [
        "rs = result.reset_index()"
      ],
      "execution_count": null,
      "outputs": []
    },
    {
      "cell_type": "code",
      "metadata": {
        "id": "PHGBUlu1dGXR"
      },
      "source": [
        "rs.head(5)"
      ],
      "execution_count": null,
      "outputs": []
    },
    {
      "cell_type": "code",
      "metadata": {
        "id": "CKZi-krLdGQX"
      },
      "source": [
        "len(list(rs.Tag_single.unique()))  # 태그들 종류수"
      ],
      "execution_count": null,
      "outputs": []
    },
    {
      "cell_type": "code",
      "metadata": {
        "id": "xasn7KV0-hVm"
      },
      "source": [
        "from copy import copy\n",
        "exiris = copy(rs)\n",
        "sns.pairplot(exiris, hue=\"Tag_single\")"
      ],
      "execution_count": null,
      "outputs": []
    },
    {
      "cell_type": "markdown",
      "metadata": {
        "id": "y0odDPCIz1WQ"
      },
      "source": [
        "### 태그별 카운트 수 확인 및 의미 없는 태그 정리\n",
        "-  박스플롯의 극값과 1,2개 같은 빈도수가 의미가 없는 태그들을 삭제"
      ]
    },
    {
      "cell_type": "code",
      "metadata": {
        "id": "_0ovepHkdGNW"
      },
      "source": [
        "from collections import Counter"
      ],
      "execution_count": null,
      "outputs": []
    },
    {
      "cell_type": "code",
      "metadata": {
        "id": "_nCul1SDdGFR"
      },
      "source": [
        "tag_counter = Counter(rs.Tag_single)"
      ],
      "execution_count": null,
      "outputs": []
    },
    {
      "cell_type": "code",
      "metadata": {
        "id": "XEo5D1r4v_Nu"
      },
      "source": [
        "tag_counter = dict(tag_counter)"
      ],
      "execution_count": null,
      "outputs": []
    },
    {
      "cell_type": "code",
      "metadata": {
        "id": "-dNLnelzwrAK"
      },
      "source": [
        "dfdf = pd.DataFrame(pd.Series(tag_counter), columns=['counter']) "
      ],
      "execution_count": null,
      "outputs": []
    },
    {
      "cell_type": "code",
      "metadata": {
        "id": "DoiD0DiQ7LC0"
      },
      "source": [
        "dfdf"
      ],
      "execution_count": null,
      "outputs": []
    },
    {
      "cell_type": "code",
      "metadata": {
        "id": "QKkl6bq0j1qN"
      },
      "source": [
        "# 카운트수를 기준으로 내림차순\n",
        "dfdf.sort_values(by = 'counter',ascending = False,inplace = True)"
      ],
      "execution_count": null,
      "outputs": []
    },
    {
      "cell_type": "code",
      "metadata": {
        "id": "fV9A040DkMYP"
      },
      "source": [
        "dfdf"
      ],
      "execution_count": null,
      "outputs": []
    },
    {
      "cell_type": "code",
      "metadata": {
        "id": "Lxj3daUykMV2"
      },
      "source": [
        "dfdf.value_counts()"
      ],
      "execution_count": null,
      "outputs": []
    },
    {
      "cell_type": "code",
      "metadata": {
        "id": "_FfqCaC1kMTQ"
      },
      "source": [
        ""
      ],
      "execution_count": null,
      "outputs": []
    },
    {
      "cell_type": "code",
      "metadata": {
        "id": "t9zHaKt9kMKj"
      },
      "source": [
        ""
      ],
      "execution_count": null,
      "outputs": []
    },
    {
      "cell_type": "code",
      "metadata": {
        "id": "hC5uF_IF3a2Y"
      },
      "source": [
        "dfdf2 = dfdf[dfdf['counter'] >= 2]\n",
        "dfdf2 = dfdf2[dfdf2['counter'] <= 20]"
      ],
      "execution_count": null,
      "outputs": []
    },
    {
      "cell_type": "code",
      "metadata": {
        "id": "uuH6uoMs3mYa"
      },
      "source": [
        "dfdf2.describe()"
      ],
      "execution_count": null,
      "outputs": []
    },
    {
      "cell_type": "markdown",
      "metadata": {
        "id": "8o_l1zZe34kl"
      },
      "source": [
        "**태그 수의 2개 이상 20개이하인 로우 값이 358개로 대부분이고, 3분위 수들과 표준 편차를 봤을 때 표준 편차는 4.8 정도, 3분위 수의 차이는 3~4 정도이므로 viewpoint 산정시 영향이 없을 것으로 예상 삭제하였다.**"
      ]
    },
    {
      "cell_type": "code",
      "metadata": {
        "id": "6WGK91Oz4Itz"
      },
      "source": [
        "dfdf_re = dfdf[dfdf['counter'] > 20]"
      ],
      "execution_count": null,
      "outputs": []
    },
    {
      "cell_type": "code",
      "metadata": {
        "id": "49wklKtK0i1g"
      },
      "source": [
        "plt.figure(figsize=(7,6))\n",
        "box_plt = dfdf_re.boxplot(column='counter')\n",
        "plt.show()"
      ],
      "execution_count": null,
      "outputs": []
    },
    {
      "cell_type": "code",
      "metadata": {
        "id": "s1bs8zfG2404"
      },
      "source": [
        "dfdf_re.describe()"
      ],
      "execution_count": null,
      "outputs": []
    },
    {
      "cell_type": "markdown",
      "metadata": {
        "id": "cvhOvI1s2U8v"
      },
      "source": [
        "- 표준편차가 130인 것에 비해서 3분위 수들과 평균을 확인 했을 때 극값에 영향이 큰것을 예상해 극값을 확인하기 위해 박스플롯을 작성\n",
        "- **박스플롯에서 outliers를 삭제하기 위해서 백분위 기준 25이상 75 이하인 값만 가져오고 태그들 확인**"
      ]
    },
    {
      "cell_type": "code",
      "metadata": {
        "id": "HPqmHOGM0l_G"
      },
      "source": [
        "df_set = dfdf[dfdf['counter'] >= 30]\n",
        "df_set = df_set[df_set['counter'] <= 103]"
      ],
      "execution_count": null,
      "outputs": []
    },
    {
      "cell_type": "code",
      "metadata": {
        "id": "ik8jLtVW2rVN"
      },
      "source": [
        "df_set.describe()"
      ],
      "execution_count": null,
      "outputs": []
    },
    {
      "cell_type": "code",
      "metadata": {
        "id": "rQtOcoOX5oTG"
      },
      "source": [
        "plt.figure(figsize=(7,6))\n",
        "box_plt = df_set.boxplot(column='counter')\n",
        "plt.show()"
      ],
      "execution_count": null,
      "outputs": []
    },
    {
      "cell_type": "code",
      "metadata": {
        "id": "gqPmpra19j7a"
      },
      "source": [
        ""
      ],
      "execution_count": null,
      "outputs": []
    }
  ]
}